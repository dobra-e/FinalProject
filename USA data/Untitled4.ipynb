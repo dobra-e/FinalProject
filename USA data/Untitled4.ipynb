{
 "cells": [
  {
   "cell_type": "code",
   "execution_count": 1,
   "id": "d0a9960f",
   "metadata": {},
   "outputs": [],
   "source": [
    "\n",
    "# importing modules and packages\n",
    "import pandas as pd\n",
    "import numpy as np\n",
    "import matplotlib.pyplot as plt\n",
    "import seaborn as sns\n",
    "from sklearn.model_selection import train_test_split\n",
    "from sklearn.linear_model import LinearRegression\n",
    "from sklearn.metrics import mean_squared_error, mean_absolute_error\n",
    "from sklearn import preprocessing\n"
   ]
  },
  {
   "cell_type": "code",
   "execution_count": 2,
   "id": "8a6c54f0",
   "metadata": {},
   "outputs": [],
   "source": [
    "import pandas as pd\n",
    "from sqlalchemy import create_engine\n",
    "\n",
    "# Replace the following with your database configuration\n",
    "db_config = {\n",
    "   \"dbname\": \"postgres\",\n",
    "    \"user\": \"postgres\",\n",
    "    \"password\": \"finalproject\",\n",
    "    \"host\": \"database-1.cxqtmtcu0z5m.us-east-1.rds.amazonaws.com\",\n",
    "    \"port\": \"5432\"  # Default is 5432 for PostgreSQL\n",
    "}\n",
    "\n",
    "#Connect to the PostgreSQL database\n",
    "\n",
    "engine = create_engine(f\"postgresql://{db_config['user']}:{db_config['password']}@{db_config['host']}:{db_config['port']}/{db_config['dbname']}\")\n",
    "\n",
    "#Load data from the ev_registration_giga table into a pandas DataFrame\n",
    "query = \"SELECT * FROM ev_registration_gigas;\"\n",
    "df1 = pd.read_sql_query(query, engine)"
   ]
  },
  {
   "cell_type": "code",
   "execution_count": 3,
   "id": "cb7d5069",
   "metadata": {},
   "outputs": [],
   "source": [
    "#df1 = pd.read_csv(\"C:\\\\Users\\\\LSchu\\\\Documents\\\\Class\\\\Final Project\\\\Final Project\\\\EV_Data.csv\")"
   ]
  },
  {
   "cell_type": "code",
   "execution_count": 4,
   "id": "430129fc",
   "metadata": {},
   "outputs": [
    {
     "name": "stdout",
     "output_type": "stream",
     "text": [
      "  state  year  electric_ev  plug_in_hybrid_electric_phev  \\\n",
      "0    ID  2021       3500.0                        2500.0   \n",
      "1    IL  2021      36500.0                       18300.0   \n",
      "2    IN  2021      10400.0                        7500.0   \n",
      "3    IA  2021       3700.0                        3600.0   \n",
      "4    KS  2021       4500.0                        3300.0   \n",
      "\n",
      "   charging_station_count  income  education  population  non_ev_total  \\\n",
      "0                   282.0   76918      0.307     1904314       1875700   \n",
      "1                  1792.0   79253      0.371    12686469       9913300   \n",
      "2                   606.0   70190      0.289     6813532       6018200   \n",
      "3                   492.0   72429      0.305     3197689       3043800   \n",
      "4                   910.0   75979      0.354     2937922       2565100   \n",
      "\n",
      "   ev_total  \n",
      "0      6000  \n",
      "1     54800  \n",
      "2     17900  \n",
      "3      7300  \n",
      "4      7800  \n",
      "Index(['state', 'year', 'electric_ev', 'plug_in_hybrid_electric_phev',\n",
      "       'charging_station_count', 'income', 'education', 'population',\n",
      "       'non_ev_total', 'ev_total'],\n",
      "      dtype='object')\n"
     ]
    }
   ],
   "source": [
    "print(df1.head())\n",
    "print(df1.columns)"
   ]
  },
  {
   "cell_type": "code",
   "execution_count": 5,
   "id": "5bc76aab",
   "metadata": {},
   "outputs": [
    {
     "name": "stdout",
     "output_type": "stream",
     "text": [
      "     year  income  education  population  non_ev_total  ev_total\n",
      "0    2021   76918      0.307     1904314       1875700      6000\n",
      "1    2021   79253      0.371    12686469       9913300     54800\n",
      "2    2021   70190      0.289     6813532       6018200     17900\n",
      "3    2021   72429      0.305     3197689       3043800      7300\n",
      "4    2021   75979      0.354     2937922       2565100      7800\n",
      "..    ...     ...        ...         ...           ...       ...\n",
      "301  2016   80268      0.381     8410106       7331000      7300\n",
      "302  2016   87648      0.351     7294771       6073200     21300\n",
      "303  2016   46836      0.208     1831023       1502400       400\n",
      "304  2016   69943      0.295     5772628       5310200      5200\n",
      "305  2016   71052      0.271      584215        591200       200\n",
      "\n",
      "[306 rows x 6 columns]\n"
     ]
    }
   ],
   "source": [
    "df = df1.drop(['state', 'electric_ev', 'plug_in_hybrid_electric_phev', 'charging_station_count'], axis= 1)\n",
    "print(df)"
   ]
  },
  {
   "cell_type": "code",
   "execution_count": 6,
   "id": "13636cf5",
   "metadata": {},
   "outputs": [
    {
     "name": "stdout",
     "output_type": "stream",
     "text": [
      "     year  income  education  population  non_ev_total\n",
      "0    2021   76918      0.307     1904314       1875700\n",
      "1    2021   79253      0.371    12686469       9913300\n",
      "2    2021   70190      0.289     6813532       6018200\n",
      "3    2021   72429      0.305     3197689       3043800\n",
      "4    2021   75979      0.354     2937922       2565100\n",
      "..    ...     ...        ...         ...           ...\n",
      "301  2016   80268      0.381     8410106       7331000\n",
      "302  2016   87648      0.351     7294771       6073200\n",
      "303  2016   46836      0.208     1831023       1502400\n",
      "304  2016   69943      0.295     5772628       5310200\n",
      "305  2016   71052      0.271      584215        591200\n",
      "\n",
      "[306 rows x 5 columns]\n",
      "0       6000\n",
      "1      54800\n",
      "2      17900\n",
      "3       7300\n",
      "4       7800\n",
      "       ...  \n",
      "301     7300\n",
      "302    21300\n",
      "303      400\n",
      "304     5200\n",
      "305      200\n",
      "Name: ev_total, Length: 306, dtype: int64\n"
     ]
    }
   ],
   "source": [
    "X = df.drop('ev_total',axis= 1)\n",
    "y = df['ev_total']\n",
    "print(X)\n",
    "print(y)"
   ]
  },
  {
   "cell_type": "code",
   "execution_count": null,
   "id": "cfd91683",
   "metadata": {},
   "outputs": [],
   "source": []
  },
  {
   "cell_type": "code",
   "execution_count": 7,
   "id": "c180dfc4",
   "metadata": {},
   "outputs": [],
   "source": [
    "# creating train and test sets\n",
    "#X_train, X_test, y_train, y_test = train_test_split(\n",
    "#    X, y, shuffle = True)\n",
    "\n",
    "train_index = X.year==2021\n",
    "X_train = X.loc[~train_index]\n",
    "X_test = X.loc[train_index]\n",
    "y_train = y.loc[~train_index]\n",
    "y_test = y.loc[train_index]"
   ]
  },
  {
   "cell_type": "code",
   "execution_count": 8,
   "id": "60c435ed",
   "metadata": {},
   "outputs": [],
   "source": [
    "# creating a regression model\n",
    "model = LinearRegression()"
   ]
  },
  {
   "cell_type": "code",
   "execution_count": 9,
   "id": "3a3606a9",
   "metadata": {},
   "outputs": [
    {
     "name": "stdout",
     "output_type": "stream",
     "text": [
      "Training Score: 0.5894207936808619\n",
      "Testing Score: 0.5775005368657995\n"
     ]
    }
   ],
   "source": [
    "# fitting the model\n",
    "model.fit(X_train,y_train)\n",
    "training_score = model.score(X_train, y_train)\n",
    "testing_score = model.score(X_test, y_test)\n",
    "\n",
    "print(f\"Training Score: {training_score}\")\n",
    "print(f\"Testing Score: {testing_score}\")"
   ]
  },
  {
   "cell_type": "code",
   "execution_count": 10,
   "id": "2d310760",
   "metadata": {},
   "outputs": [
    {
     "name": "stdout",
     "output_type": "stream",
     "text": [
      "Min X Value: [[[2.0160e+03 4.6159e+04 2.0200e-01 0.0000e+00 3.1070e+05]]]\n",
      "Max X Value: [[[2.0210000e+03 1.0128300e+05 6.3600000e-01 3.9512223e+07 3.4111700e+07]]]\n"
     ]
    }
   ],
   "source": [
    "x_min = np.array([[X.min()]])\n",
    "x_max = np.array([[X.max()]])\n",
    "print(f'Min X Value: {x_min}')\n",
    "print(f'Max X Value: {x_max}')"
   ]
  },
  {
   "cell_type": "code",
   "execution_count": 11,
   "id": "91cb63ff",
   "metadata": {},
   "outputs": [
    {
     "data": {
      "image/png": "[encoded data removed]",
      "text/plain": [
       "<Figure size 640x480 with 1 Axes>"
      ]
     },
     "metadata": {},
     "output_type": "display_data"
    }
   ],
   "source": [
    "#plot residuals\n",
    "\n",
    "plt.scatter(model.predict(X_train), model.predict(X_train)-y_train, c=\"blue\", label=\"Training Data\")\n",
    "plt.scatter(model.predict(X_test), model.predict(X_test)-y_test, c=\"orange\", label=\"Testing Data\")\n",
    "plt.legend()\n",
    "plt.hlines(y=0, xmin=y.min(), xmax=y.max())\n",
    "plt.title(\"Residual Plot\")\n",
    "plt.show()"
   ]
  },
  {
   "cell_type": "code",
   "execution_count": null,
   "id": "e054a4e8",
   "metadata": {},
   "outputs": [],
   "source": []
  },
  {
   "cell_type": "code",
   "execution_count": null,
   "id": "7cb82285",
   "metadata": {},
   "outputs": [],
   "source": []
  },
  {
   "cell_type": "code",
   "execution_count": 12,
   "id": "8d08ba73",
   "metadata": {},
   "outputs": [
    {
     "name": "stdout",
     "output_type": "stream",
     "text": [
      "[ 11563.37819578  75561.68642491  46040.81138268  19415.6842378\n",
      "  12532.5138955   10330.10052785   6591.37764432  -6523.54447539\n",
      "  50992.17174987  36745.44752767  55402.52957771  44324.03958733\n",
      "  -9837.92323202  32893.20933484 -15028.2920024   10788.23810725\n",
      "  -1374.13931758  13252.34887172  53187.3509943  -15483.36287126\n",
      "  16057.6808833   57403.01307786 -10470.82154165  80503.23609135\n",
      "  22324.7743608   29147.89451528  72394.21186124  -7624.36545235\n",
      "  26836.50330532  -3222.53662364  38655.5339746  212364.79946818\n",
      "  27118.30116963 -11832.37771953  64619.53241658  65638.28711308\n",
      " -25024.4657231   41874.52080989  -9373.38719789  22250.8185567\n",
      "  -4800.30501772  -2337.4781459   44824.26694562  -7550.06988363\n",
      " 341410.33756302  45776.32341969  12796.39154092 -12125.95993365\n",
      " 129776.1897537   64577.8963501    1012.87293723]\n"
     ]
    }
   ],
   "source": [
    "# making predictions\n",
    "predictions = model.predict(X_test)\n",
    "print(predictions)"
   ]
  },
  {
   "cell_type": "code",
   "execution_count": 13,
   "id": "4c044e8b",
   "metadata": {},
   "outputs": [
    {
     "name": "stdout",
     "output_type": "stream",
     "text": [
      "mean_squared_error :  6252853592.8166275\n",
      "mean_absolute_error :  27925.482282963163\n"
     ]
    }
   ],
   "source": [
    "# model evaluation\n",
    "print(\n",
    "  'mean_squared_error : ', mean_squared_error(y_test, predictions))\n",
    "print(\n",
    "  'mean_absolute_error : ', mean_absolute_error(y_test, predictions))"
   ]
  },
  {
   "cell_type": "code",
   "execution_count": null,
   "id": "e91cf1bb",
   "metadata": {},
   "outputs": [],
   "source": []
  }
 ],
 "metadata": {
  "kernelspec": {
   "display_name": "mlenv",
   "language": "python",
   "name": "mlenv"
  },
  "language_info": {
   "codemirror_mode": {
    "name": "ipython",
    "version": 3
   },
   "file_extension": ".py",
   "mimetype": "text/x-python",
   "name": "python",
   "nbconvert_exporter": "python",
   "pygments_lexer": "ipython3",
   "version": "3.7.13"
  }
 },
 "nbformat": 4,
 "nbformat_minor": 5
}
