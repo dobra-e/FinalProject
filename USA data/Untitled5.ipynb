{
 "cells": [
  {
   "cell_type": "code",
   "execution_count": 1,
   "id": "5eaa9b3c",
   "metadata": {},
   "outputs": [],
   "source": [
    "# importing modules and packages\n",
    "import pandas as pd\n",
    "import numpy as np\n",
    "import matplotlib.pyplot as plt\n",
    "import seaborn as sns\n",
    "from sklearn.model_selection import train_test_split\n",
    "from sklearn.linear_model import LinearRegression\n",
    "from sklearn.metrics import mean_squared_error, mean_absolute_error\n",
    "from sklearn import preprocessing"
   ]
  },
  {
   "cell_type": "code",
   "execution_count": 2,
   "id": "3efc4f05",
   "metadata": {},
   "outputs": [],
   "source": [
    "import pandas as pd\n",
    "from sqlalchemy import create_engine\n",
    "\n",
    "# Replace the following with your database configuration\n",
    "db_config = {\n",
    "   \"dbname\": \"postgres\",\n",
    "    \"user\": \"postgres\",\n",
    "    \"password\": \"finalproject\",\n",
    "    \"host\": \"database-1.cxqtmtcu0z5m.us-east-1.rds.amazonaws.com\",\n",
    "    \"port\": \"5432\"  # Default is 5432 for PostgreSQL\n",
    "}\n",
    "\n",
    "#Connect to the PostgreSQL database\n",
    "\n",
    "engine = create_engine(f\"postgresql://{db_config['user']}:{db_config['password']}@{db_config['host']}:{db_config['port']}/{db_config['dbname']}\")\n",
    "\n",
    "#Load data from the ev_registration_giga table into a pandas DataFrame\n",
    "query = \"SELECT * FROM ev_registration_gigas;\"\n",
    "df1 = pd.read_sql_query(query, engine)"
   ]
  },
  {
   "cell_type": "code",
   "execution_count": 3,
   "id": "e8cab3c0",
   "metadata": {},
   "outputs": [
    {
     "name": "stdout",
     "output_type": "stream",
     "text": [
      "  state  year  electric_ev  plug_in_hybrid_electric_phev  \\\n",
      "0    ID  2021       3500.0                        2500.0   \n",
      "1    IL  2021      36500.0                       18300.0   \n",
      "2    IN  2021      10400.0                        7500.0   \n",
      "3    IA  2021       3700.0                        3600.0   \n",
      "4    KS  2021       4500.0                        3300.0   \n",
      "\n",
      "   charging_station_count  income  education  population  non_ev_total  \\\n",
      "0                   282.0   76918      0.307     1904314       1875700   \n",
      "1                  1792.0   79253      0.371    12686469       9913300   \n",
      "2                   606.0   70190      0.289     6813532       6018200   \n",
      "3                   492.0   72429      0.305     3197689       3043800   \n",
      "4                   910.0   75979      0.354     2937922       2565100   \n",
      "\n",
      "   ev_total  \n",
      "0      6000  \n",
      "1     54800  \n",
      "2     17900  \n",
      "3      7300  \n",
      "4      7800  \n",
      "Index(['state', 'year', 'electric_ev', 'plug_in_hybrid_electric_phev',\n",
      "       'charging_station_count', 'income', 'education', 'population',\n",
      "       'non_ev_total', 'ev_total'],\n",
      "      dtype='object')\n"
     ]
    }
   ],
   "source": [
    "print(df1.head())\n",
    "print(df1.columns)"
   ]
  },
  {
   "cell_type": "code",
   "execution_count": 4,
   "id": "c1d5f782",
   "metadata": {},
   "outputs": [
    {
     "name": "stdout",
     "output_type": "stream",
     "text": [
      "     year  charging_station_count  income  education  population  \\\n",
      "0    2021                   282.0   76918      0.307     1904314   \n",
      "1    2021                  1792.0   79253      0.371    12686469   \n",
      "2    2021                   606.0   70190      0.289     6813532   \n",
      "3    2021                   492.0   72429      0.305     3197689   \n",
      "4    2021                   910.0   75979      0.354     2937922   \n",
      "..    ...                     ...     ...        ...         ...   \n",
      "301  2016                    66.0   46836      0.208     1831023   \n",
      "302  2016                   258.0   69943      0.295     5772628   \n",
      "303  2016                    52.0   71052      0.271      584215   \n",
      "304  2016                     0.0   68882      0.296      754434   \n",
      "305  2016                     0.0   73893      0.289      862996   \n",
      "\n",
      "     non_ev_total  ev_total  \n",
      "0         1875700      6000  \n",
      "1         9913300     54800  \n",
      "2         6018200     17900  \n",
      "3         3043800      7300  \n",
      "4         2565100      7800  \n",
      "..            ...       ...  \n",
      "301       1502400       400  \n",
      "302       5310200      5200  \n",
      "303        591200       200  \n",
      "304        745200       100  \n",
      "305        847500       300  \n",
      "\n",
      "[306 rows x 7 columns]\n"
     ]
    }
   ],
   "source": [
    "df = df1.drop(['state', 'electric_ev', 'plug_in_hybrid_electric_phev'], axis= 1)\n",
    "print(df)"
   ]
  },
  {
   "cell_type": "code",
   "execution_count": 5,
   "id": "5d31bdb4",
   "metadata": {},
   "outputs": [
    {
     "name": "stdout",
     "output_type": "stream",
     "text": [
      "     year  income  education  population  non_ev_total  ev_total\n",
      "0    2021   76918      0.307     1904314       1875700      6000\n",
      "1    2021   79253      0.371    12686469       9913300     54800\n",
      "2    2021   70190      0.289     6813532       6018200     17900\n",
      "3    2021   72429      0.305     3197689       3043800      7300\n",
      "4    2021   75979      0.354     2937922       2565100      7800\n",
      "..    ...     ...        ...         ...           ...       ...\n",
      "301  2016   46836      0.208     1831023       1502400       400\n",
      "302  2016   69943      0.295     5772628       5310200      5200\n",
      "303  2016   71052      0.271      584215        591200       200\n",
      "304  2016   68882      0.296      754434        745200       100\n",
      "305  2016   73893      0.289      862996        847500       300\n",
      "\n",
      "[306 rows x 6 columns]\n",
      "0       282.0\n",
      "1      1792.0\n",
      "2       606.0\n",
      "3       492.0\n",
      "4       910.0\n",
      "        ...  \n",
      "301      66.0\n",
      "302     258.0\n",
      "303      52.0\n",
      "304       0.0\n",
      "305       0.0\n",
      "Name: charging_station_count, Length: 306, dtype: float64\n"
     ]
    }
   ],
   "source": [
    "X = df.drop('charging_station_count',axis= 1)\n",
    "y = df['charging_station_count']\n",
    "print(X)\n",
    "print(y)"
   ]
  },
  {
   "cell_type": "code",
   "execution_count": 6,
   "id": "91126e0d",
   "metadata": {},
   "outputs": [],
   "source": [
    "# creating train and test sets\n",
    "#X_train, X_test, y_train, y_test = train_test_split(\n",
    "#    X, y, shuffle = True)\n",
    "\n",
    "train_index = X.year==2021\n",
    "X_train = X.loc[~train_index]\n",
    "X_test = X.loc[train_index]\n",
    "y_train = y.loc[~train_index]\n",
    "y_test = y.loc[train_index]"
   ]
  },
  {
   "cell_type": "code",
   "execution_count": 7,
   "id": "134910ee",
   "metadata": {},
   "outputs": [],
   "source": [
    "# creating a regression model\n",
    "model = LinearRegression()"
   ]
  },
  {
   "cell_type": "code",
   "execution_count": 8,
   "id": "04d5d47d",
   "metadata": {},
   "outputs": [
    {
     "name": "stdout",
     "output_type": "stream",
     "text": [
      "Training Score: 0.8749101272942907\n",
      "Testing Score: 0.6260192606608335\n"
     ]
    }
   ],
   "source": [
    "# fitting the model\n",
    "model.fit(X_train,y_train)\n",
    "training_score = model.score(X_train, y_train)\n",
    "testing_score = model.score(X_test, y_test)\n",
    "\n",
    "print(f\"Training Score: {training_score}\")\n",
    "print(f\"Testing Score: {testing_score}\")"
   ]
  },
  {
   "cell_type": "code",
   "execution_count": 9,
   "id": "32bc0ce6",
   "metadata": {},
   "outputs": [
    {
     "name": "stdout",
     "output_type": "stream",
     "text": [
      "Min X Value: [[[2.0160e+03 4.6159e+04 2.0200e-01 0.0000e+00 3.1070e+05 1.0000e+02]]]\n",
      "Max X Value: [[[2.0210000e+03 1.0128300e+05 6.3600000e-01 3.9512223e+07 3.4111700e+07\n",
      "   8.7840000e+05]]]\n"
     ]
    }
   ],
   "source": [
    "x_min = np.array([[X.min()]])\n",
    "x_max = np.array([[X.max()]])\n",
    "print(f'Min X Value: {x_min}')\n",
    "print(f'Max X Value: {x_max}')"
   ]
  },
  {
   "cell_type": "code",
   "execution_count": 10,
   "id": "029854b0",
   "metadata": {},
   "outputs": [
    {
     "data": {
      "image/png": "[encoded data removed]",
      "text/plain": [
       "<Figure size 640x480 with 1 Axes>"
      ]
     },
     "metadata": {},
     "output_type": "display_data"
    }
   ],
   "source": [
    "#plot residuals\n",
    "\n",
    "plt.scatter(model.predict(X_train), model.predict(X_train)-y_train, c=\"blue\", label=\"Training Data\")\n",
    "plt.scatter(model.predict(X_test), model.predict(X_test)-y_test, c=\"orange\", label=\"Testing Data\")\n",
    "plt.legend()\n",
    "plt.hlines(y=0, xmin=y.min(), xmax=y.max())\n",
    "plt.title(\"Residual Plot\")\n",
    "plt.show()"
   ]
  },
  {
   "cell_type": "code",
   "execution_count": 11,
   "id": "827bf27a",
   "metadata": {},
   "outputs": [
    {
     "name": "stdout",
     "output_type": "stream",
     "text": [
      "[  549.68181424  1524.95623382   814.37971739   601.52664885\n",
      "   663.60890486   625.29474565   613.28619579   620.46180743\n",
      "  1212.33005153  1413.09891729  1149.85932231   943.49090904\n",
      "   504.94229444   822.30035821   556.80184552   579.77929942\n",
      "   775.24106581   650.16202083  1600.60407318   588.28887507\n",
      "  2463.23497174  1243.8062285    485.1308376   1163.96177483\n",
      "   660.5929107   1125.89303186  1404.17131621   595.47105541\n",
      "   729.97819348   489.04975107   848.64244458  2600.69730555\n",
      "   854.09157327   681.97408829  1312.13892755  1717.57319571\n",
      "   469.26103469   804.10182201   451.91372811   639.78797785\n",
      "   505.11394951  1279.36621874   533.98935402 10933.2354842\n",
      "  1315.48302979   926.85510156   583.34187128  2559.54535072\n",
      "  1328.12851937   840.67306172   738.03445837]\n"
     ]
    }
   ],
   "source": [
    "# making predictions\n",
    "predictions = model.predict(X_test)\n",
    "print(predictions)"
   ]
  },
  {
   "cell_type": "code",
   "execution_count": 12,
   "id": "38fcf14f",
   "metadata": {},
   "outputs": [
    {
     "name": "stdout",
     "output_type": "stream",
     "text": [
      "mean_squared_error :  4709182.604144309\n",
      "mean_absolute_error :  821.7638589782542\n"
     ]
    }
   ],
   "source": [
    "# model evaluation\n",
    "print(\n",
    "  'mean_squared_error : ', mean_squared_error(y_test, predictions))\n",
    "print(\n",
    "  'mean_absolute_error : ', mean_absolute_error(y_test, predictions))"
   ]
  },
  {
   "cell_type": "code",
   "execution_count": 15,
   "id": "2a422be2",
   "metadata": {},
   "outputs": [],
   "source": [
    "pre = [549.68181424,  1524.95623382,   814.37971739,   601.52664885,\n",
    "   663.60890486,   625.29474565,   613.28619579,   620.46180743,\n",
    "  1212.33005153,  1413.09891729,  1149.85932231,   943.49090904,\n",
    "   504.94229444,   822.30035821,   556.80184552,   579.77929942,\n",
    "   775.24106581,   650.16202083,  1600.60407318,  588.28887507,\n",
    "  2463.23497174,  1243.8062285,    485.1308376 ,  1163.96177483,\n",
    "   660.5929107,   1125.89303186,  1404.17131621,   595.47105541,\n",
    "   729.97819348,   489.04975107,   848.64244458,  2600.69730555,\n",
    "   854.09157327,   681.97408829,  1312.13892755,  1717.57319571,\n",
    "   469.26103469,   804.10182201,   451.91372811,   639.78797785,\n",
    "   505.11394951,  1279.36621874,   533.98935402, 10933.2354842,\n",
    "  1315.48302979,   926.85510156,   583.34187128,  2559.54535072,\n",
    "  1328.12851937,   840.67306172,   738.03445837]"
   ]
  },
  {
   "cell_type": "code",
   "execution_count": 16,
   "id": "cc45bb1b",
   "metadata": {},
   "outputs": [],
   "source": [
    "df_pre = pd.DataFrame(pre)\n"
   ]
  },
  {
   "cell_type": "code",
   "execution_count": 18,
   "id": "e82143c4",
   "metadata": {},
   "outputs": [],
   "source": [
    "df_pre.to_csv(\"CS_Predictions\")"
   ]
  }
 ],
 "metadata": {
  "kernelspec": {
   "display_name": "mlenv",
   "language": "python",
   "name": "mlenv"
  },
  "language_info": {
   "codemirror_mode": {
    "name": "ipython",
    "version": 3
   },
   "file_extension": ".py",
   "mimetype": "text/x-python",
   "name": "python",
   "nbconvert_exporter": "python",
   "pygments_lexer": "ipython3",
   "version": "3.7.13"
  }
 },
 "nbformat": 4,
 "nbformat_minor": 5
}
