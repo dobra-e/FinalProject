{
 "cells": [
  {
   "cell_type": "code",
   "execution_count": null,
   "metadata": {},
   "outputs": [],
   "source": [
    "import pandas as pd\n",
    "from sqlalchemy import create_engine\n",
    "\n",
    "# Replace the following with your database configuration\n",
    "db_config = {\n",
    "    \"dbname\": \"your_db_name\",\n",
    "    \"user\": \"your_username\",\n",
    "    \"password\": \"your_password\",\n",
    "    \"host\": \"your_host\",\n",
    "    \"port\": \"your_port\"\n",
    "}\n",
    "\n",
    "# Connect to the PostgreSQL database\n",
    "engine = create_engine(f\"postgresql://{db_config['user']}:{db_config['password']}@{db_config['host']}:{db_config['port']}/{db_config['dbname']}\")\n",
    "\n",
    "# Load data from the ev_registration_giga table into a pandas DataFrame\n",
    "query = \"SELECT * FROM ev_registration_giga;\"\n",
    "data = pd.read_sql_query(query, engine)\n"
   ]
  }
 ],
 "metadata": {
  "language_info": {
   "name": "python"
  },
  "orig_nbformat": 4
 },
 "nbformat": 4,
 "nbformat_minor": 2
}
